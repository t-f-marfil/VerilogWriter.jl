{
 "cells": [
  {
   "cell_type": "code",
   "execution_count": 1,
   "metadata": {},
   "outputs": [
    {
     "name": "stderr",
     "output_type": "stream",
     "text": [
      "┌ Info: Precompiling VerilogWriter [609488a3-1988-4612-be37-e0d5b22d8f97]\n",
      "└ @ Base loading.jl:1423\n"
     ]
    }
   ],
   "source": [
    "using VerilogWriter"
   ]
  },
  {
   "cell_type": "markdown",
   "metadata": {},
   "source": [
    "## Examples in Documents"
   ]
  },
  {
   "cell_type": "code",
   "execution_count": 2,
   "metadata": {},
   "outputs": [
    {
     "name": "stdout",
     "output_type": "stream",
     "text": [
      "module mymodule #(\n",
      "    parameter dummy = 10\n",
      ")(\n",
      "    input CLK,\n",
      "    input RST,\n",
      "    input sig1,\n",
      "    input sig2,\n",
      "    input [7:0] din,\n",
      "    output reg [7:0] dout\n",
      ");\n",
      "    \n",
      "    reg [7:0] dbuf;\n",
      "\n",
      "    always_ff @( posedge CLK ) begin\n",
      "        if (RST) begin\n",
      "            dbuf <= 0;\n",
      "            dout <= 0;\n",
      "        end else begin\n",
      "            if (sig1) begin\n",
      "                dbuf <= din;\n",
      "            end else if (sig2) begin\n",
      "                dout <= dbuf;\n",
      "            end else begin\n",
      "                dout <= ~din;\n",
      "            end\n",
      "        end\n",
      "    end\n",
      "endmodule\n",
      "type: Vmodule\n"
     ]
    }
   ],
   "source": [
    "let\n",
    "    prs = @parameters (dummy = 10)\n",
    "\n",
    "    ps = @ports (\n",
    "        @in CLK, RST, sig1, sig2;\n",
    "        @in 8 din;\n",
    "        @out @reg 8 dout\n",
    "    )\n",
    "\n",
    "    ds = @decls (\n",
    "        @reg 8 dbuf\n",
    "    )\n",
    "\n",
    "    proc = @always (\n",
    "        if sig1\n",
    "            dbuf <= din \n",
    "        elseif sig2 \n",
    "            dout <= dbuf\n",
    "        else\n",
    "            dout <= ~din \n",
    "        end\n",
    "    )\n",
    "\n",
    "    mymod = Vmodule(\n",
    "        \"mymodule\",\n",
    "        prs,\n",
    "        ps,\n",
    "        ds,\n",
    "        Assign[],\n",
    "        [autoreset(proc)]\n",
    "    )\n",
    "\n",
    "    vshow(mymod)\n",
    "end"
   ]
  },
  {
   "cell_type": "code",
   "execution_count": 3,
   "metadata": {},
   "outputs": [
    {
     "name": "stdout",
     "output_type": "stream",
     "text": [
      "always_ff @( posedge CLK ) begin\n",
      "    if (RST) begin\n",
      "        wstate <= 0;\n",
      "    end else begin\n",
      "        case (wstate)\n",
      "            widle: begin\n",
      "                if (((awvalid & awready) & ~(wvalid & wready))) begin\n",
      "                    wstate <= waready;\n",
      "                end else if ((~(awvalid & awready) & (wvalid & wready))) begin\n",
      "                    wstate <= wdready;\n",
      "                end else if (((awvalid & awready) & (wvalid & wready))) begin\n",
      "                    wstate <= wready;\n",
      "                end\n",
      "            end\n",
      "                waready: begin\n",
      "                if ((wvalid & wready)) begin\n",
      "                    wstate <= wready;\n",
      "                end\n",
      "            end\n",
      "                wdready: begin\n",
      "                if ((awvalid & awready)) begin\n",
      "                    wstate <= wready;\n",
      "                end\n",
      "            end\n",
      "                wready: begin\n",
      "                if ((bvalid & bready)) begin\n",
      "                    wstate <= widle;\n",
      "                end\n",
      "            end\n",
      "        endcase\n",
      "    end\n",
      "end\n",
      "type: Alwayscontent\n",
      "  0.006321 seconds (1.78 k allocations: 144.422 KiB, 79.28% compilation time)\n"
     ]
    }
   ],
   "source": [
    "function main()\n",
    "    # AXI master, no `multiple outstanding addresses`\n",
    "    prms = @parameters (\n",
    "        DWID = 32\n",
    "    )\n",
    "\n",
    "    mawport = @ports (\n",
    "        @out awvalid;\n",
    "        @in awready;\n",
    "        @out 32 awaddr;\n",
    "        @out 3 awprot\n",
    "    )\n",
    "    mwport = @ports (\n",
    "        @out wvalid;\n",
    "        @in wready;\n",
    "        @out DWID wdata;\n",
    "        @out DWID >> 3 wstrb\n",
    "    )\n",
    "    mbport = @ports (\n",
    "        @in bvalid;\n",
    "        @out bready;\n",
    "        @in 2 bresp\n",
    "    )\n",
    "\n",
    "    mwportall = declmerge(mawport, mwport, mbport)\n",
    "    # vshow(mwportall)\n",
    "    wfsm = @FSM wstate widle, waready, wdready, wready\n",
    "    \n",
    "    i2a0 = @wireexpr awvalid & awready \n",
    "    i2d0 = @wireexpr wvalid & wready \n",
    "    i2a = i2a0 & ~i2d0\n",
    "    i2d = ~i2a0 & i2d0\n",
    "    i2r = i2a0 & i2d0\n",
    "    a2r = i2d0\n",
    "    d2r = i2a0\n",
    "    r2i = @wireexpr bvalid & bready\n",
    "\n",
    "    transadd!(\n",
    "        wfsm, \n",
    "        [\n",
    "            (i2a, @tstate widle => waready),\n",
    "            (i2d, @tstate widle => wdready),\n",
    "            (i2r, @tstate widle => wready),\n",
    "            (a2r, @tstate waready => wready),\n",
    "            (d2r, @tstate wdready => wready),\n",
    "            (r2i, @tstate wready => widle)\n",
    "        ]\n",
    "    )\n",
    "\n",
    "    wfsmalways = autoreset(fsmconv(Ifcontent, wfsm))\n",
    "\n",
    "    vshow(wfsmalways)\n",
    "end\n",
    "\n",
    "# @btime main()\n",
    "@time main()\n",
    "# main()"
   ]
  },
  {
   "cell_type": "code",
   "execution_count": 3,
   "metadata": {},
   "outputs": [],
   "source": [
    "using BenchmarkTools"
   ]
  },
  {
   "cell_type": "code",
   "execution_count": 5,
   "metadata": {},
   "outputs": [
    {
     "name": "stdout",
     "output_type": "stream",
     "text": [
      "case (state)\n",
      "    suno: begin\n",
      "        x = y;\n",
      "    end\n",
      "        sdos: begin\n",
      "        y <= z;\n",
      "    end\n",
      "endcase\n",
      "case (state)\n",
      "    suno: begin\n",
      "        x = y;\n",
      "    end\n",
      "    sdos: begin\n",
      "        y <= z;\n",
      "    end\n",
      "endcase\n"
     ]
    }
   ],
   "source": [
    "println(\"case (state)\\n    suno: begin\\n        x = y;\\n    end\\n        sdos: begin\\n        y <= z;\\n    end\\nendcase\")\n",
    "println(\"case (state)\\n    suno: begin\\n        x = y;\\n    end\\n    sdos: begin\\n        y <= z;\\n    end\\nendcase\")"
   ]
  },
  {
   "cell_type": "code",
   "execution_count": null,
   "metadata": {},
   "outputs": [],
   "source": []
  }
 ],
 "metadata": {
  "kernelspec": {
   "display_name": "Julia 1.7.2",
   "language": "julia",
   "name": "julia-1.7"
  },
  "language_info": {
   "file_extension": ".jl",
   "mimetype": "application/julia",
   "name": "julia",
   "version": "1.7.2"
  },
  "orig_nbformat": 4,
  "vscode": {
   "interpreter": {
    "hash": "32891ce716a8dd67f85d1300b9e78c9df40e0d8dd5b473c653afd0b8acf37f4d"
   }
  }
 },
 "nbformat": 4,
 "nbformat_minor": 2
}
