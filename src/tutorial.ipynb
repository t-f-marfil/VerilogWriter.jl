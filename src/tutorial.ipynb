{
 "cells": [
  {
   "cell_type": "code",
   "execution_count": 4,
   "metadata": {},
   "outputs": [],
   "source": [
    "using VerilogWriter"
   ]
  },
  {
   "cell_type": "markdown",
   "metadata": {},
   "source": [
    "## Examples in Documents"
   ]
  },
  {
   "cell_type": "code",
   "execution_count": 3,
   "metadata": {},
   "outputs": [
    {
     "name": "stdout",
     "output_type": "stream",
     "text": [
      "module mymodule #(\n",
      "    parameter dummy = 10\n",
      ")(\n",
      "    input clk,\n",
      "    input sig1,\n",
      "    input sig2,\n",
      "    input [7:0] din,\n",
      "    output reg [7:0] dout\n",
      ");\n",
      "    \n",
      "    reg [7:0] dbuf;\n",
      "\n",
      "    always_ff @( posedge clk ) begin\n",
      "        if (sig1) begin\n",
      "            dbuf <= din;\n",
      "        end else if (sig2) begin\n",
      "            dout <= dbuf;\n",
      "        end else begin\n",
      "            dout <= ~din;\n",
      "        end\n",
      "    end\n",
      "endmodule\n",
      "type: Vmodule\n"
     ]
    }
   ],
   "source": [
    "let\n",
    "    prs = Parameters(Oneparam(\"dummy\", 10))\n",
    "\n",
    "    ps = @ports (\n",
    "        @in clk, sig1, sig2;\n",
    "        @in 8 din;\n",
    "        @out @reg 8 dout\n",
    "    )\n",
    "\n",
    "    ds = @decls (\n",
    "        @reg 8 dbuf\n",
    "    )\n",
    "\n",
    "    proc = @always (\n",
    "        @posedge clk;\n",
    "\n",
    "        if sig1\n",
    "            dbuf <= din \n",
    "        elseif sig2 \n",
    "            dout <= dbuf\n",
    "        else\n",
    "            dout <= ~din \n",
    "        end\n",
    "    )\n",
    "\n",
    "    mymod = Vmodule(\n",
    "        \"mymodule\",\n",
    "        prs,\n",
    "        ps,\n",
    "        ds,\n",
    "        Assign[],\n",
    "        [proc]\n",
    "    )\n",
    "\n",
    "    vshow(mymod)\n",
    "end"
   ]
  },
  {
   "cell_type": "code",
   "execution_count": 3,
   "metadata": {},
   "outputs": [
    {
     "name": "stdout",
     "output_type": "stream",
     "text": [
      "always_ff @( posedge clk ) begin\n",
      "    dlog <= dout;\n",
      "    if (b1) begin\n",
      "        dout <= ~dout;\n",
      "    end\n",
      "end\n",
      "type: Alwayscontent\n"
     ]
    }
   ],
   "source": [
    "let\n",
    "    x = @always (\n",
    "        @posedge clk;\n",
    "        \n",
    "        dlog <= dout;\n",
    "        if b1 \n",
    "            dout <= ~dout \n",
    "        end\n",
    "    )\n",
    "    vshow(x)\n",
    "end"
   ]
  },
  {
   "cell_type": "code",
   "execution_count": null,
   "metadata": {},
   "outputs": [],
   "source": []
  }
 ],
 "metadata": {
  "kernelspec": {
   "display_name": "Julia 1.7.2",
   "language": "julia",
   "name": "julia-1.7"
  },
  "language_info": {
   "file_extension": ".jl",
   "mimetype": "application/julia",
   "name": "julia",
   "version": "1.7.2"
  },
  "orig_nbformat": 4,
  "vscode": {
   "interpreter": {
    "hash": "32891ce716a8dd67f85d1300b9e78c9df40e0d8dd5b473c653afd0b8acf37f4d"
   }
  }
 },
 "nbformat": 4,
 "nbformat_minor": 2
}
